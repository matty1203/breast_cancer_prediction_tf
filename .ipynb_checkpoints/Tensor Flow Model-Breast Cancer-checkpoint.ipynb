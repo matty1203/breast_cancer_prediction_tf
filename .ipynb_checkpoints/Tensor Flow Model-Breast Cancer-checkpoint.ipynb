{
 "cells": [
  {
   "cell_type": "code",
   "execution_count": 270,
   "metadata": {},
   "outputs": [],
   "source": [
    "import numpy as np\n",
    "import pandas as pd\n",
    "from sklearn import preprocessing\n",
    "import tensorflow as tf\n",
    "import matplotlib.pyplot as plt\n",
    "import seaborn as sns\n"
   ]
  },
  {
   "cell_type": "markdown",
   "metadata": {},
   "source": [
    "### Recall "
   ]
  },
  {
   "cell_type": "code",
   "execution_count": 271,
   "metadata": {},
   "outputs": [],
   "source": [
    "def recall(test_dat,pred_test):\n",
    "    test_dat=tensorToArray(test_dat);\n",
    "    fp,tp,tn,fn=matrixConf(test_dat,pred_test)\n",
    "    recall_var=tp/(tp+fn)\n",
    "    return recall_var "
   ]
  },
  {
   "cell_type": "markdown",
   "metadata": {},
   "source": [
    "### Precision"
   ]
  },
  {
   "cell_type": "code",
   "execution_count": 272,
   "metadata": {},
   "outputs": [],
   "source": [
    "def precision(test_dat,pred_test):\n",
    "    test_dat=tensorToArray(test_dat);\n",
    "    fp,tp,tn,fn=matrixConf(test_dat,pred_test)\n",
    "    prec_var=(tp)/(tp+tn)\n",
    "    return prec_var "
   ]
  },
  {
   "cell_type": "markdown",
   "metadata": {},
   "source": [
    "### Converting Tensor to ND Array"
   ]
  },
  {
   "cell_type": "code",
   "execution_count": 273,
   "metadata": {},
   "outputs": [],
   "source": [
    "def tensorToArray(dat_passed):\n",
    "    a = tf.constant(dat_passed)\n",
    "    proto_tensor = tf.make_tensor_proto(a)  # convert `tensor a` to a proto tensor\n",
    "    ndArray=tf.make_ndarray(proto_tensor);\n",
    "    test_output=[]\n",
    "    for i in range(len(ndArray)):\n",
    "        test_output.append(ndArray[i][0])\n",
    "    return test_output "
   ]
  },
  {
   "cell_type": "markdown",
   "metadata": {},
   "source": [
    "### Confusion matrix Function"
   ]
  },
  {
   "cell_type": "code",
   "execution_count": 274,
   "metadata": {},
   "outputs": [],
   "source": [
    "def matrixConf(org,pred):\n",
    "    tp=0\n",
    "    fp=0\n",
    "    fn=0\n",
    "    tn=0\n",
    "    for i in range(len(pred)):\n",
    "        if org[i]==0 and pred[i]==1:\n",
    "            fp=fp+1\n",
    "        elif org[i]==1 and pred[i]==1:\n",
    "            tp=tp+1\n",
    "        elif org[i]==0 and pred[i]==0: \n",
    "            tn=tn+1\n",
    "        elif org[i]==1 and pred[i]==0:\n",
    "            fn=fn+1\n",
    "    return (fp,tp,tn,fn)\n",
    "        \n",
    "    "
   ]
  },
  {
   "cell_type": "markdown",
   "metadata": {},
   "source": [
    "### Reading Data"
   ]
  },
  {
   "cell_type": "code",
   "execution_count": 275,
   "metadata": {},
   "outputs": [],
   "source": [
    "raw_data=pd.read_csv('Cleaned_data.csv')\n",
    "copy_data=raw_data.copy()\n",
    "\n",
    "unscaled_ip=raw_data.iloc[:,0:9].values\n",
    "targets_all=raw_data.iloc[:,9:10].values"
   ]
  },
  {
   "cell_type": "markdown",
   "metadata": {},
   "source": [
    "### Unscaled Input Preview"
   ]
  },
  {
   "cell_type": "code",
   "execution_count": 276,
   "metadata": {},
   "outputs": [
    {
     "data": {
      "text/plain": [
       "array([ 48.        ,  23.5       ,  70.        ,   2.707     ,\n",
       "         0.46740867,   8.8071    ,   9.7024    ,   7.99585   ,\n",
       "       417.114     ])"
      ]
     },
     "execution_count": 276,
     "metadata": {},
     "output_type": "execute_result"
    }
   ],
   "source": [
    "unscaled_ip[0]"
   ]
  },
  {
   "cell_type": "markdown",
   "metadata": {},
   "source": [
    "### Scaling the Data using standard Scaler"
   ]
  },
  {
   "cell_type": "code",
   "execution_count": 277,
   "metadata": {},
   "outputs": [
    {
     "data": {
      "text/plain": [
       "array([[-0.57979363, -0.81667527, -1.23922225, ..., -0.07022151,\n",
       "        -0.54551749, -0.34125061],\n",
       "       [ 1.60182096, -1.37875056, -0.25829943, ..., -0.69734988,\n",
       "        -0.86421418, -0.1912238 ],\n",
       "       [ 1.53948912, -0.89176446, -0.30288683, ...,  1.79799836,\n",
       "        -0.4416602 ,  0.05821407],\n",
       "       ...,\n",
       "       [ 0.47984774,  0.89385486, -0.03536242, ...,  1.81384272,\n",
       "        -0.3563202 , -0.64049127],\n",
       "       [ 0.91617066, -0.39854568, -0.70417344, ...,  3.45903808,\n",
       "        -0.92857684, -0.41283214],\n",
       "       [ 1.7888165 , -0.0804471 ,  1.79272102, ...,  0.57664406,\n",
       "        -0.84103616, -1.29074683]])"
      ]
     },
     "execution_count": 277,
     "metadata": {},
     "output_type": "execute_result"
    }
   ],
   "source": [
    "balanced_scaled_ip=preprocessing.StandardScaler().fit_transform(unscaled_ip)\n",
    "balanced_scaled_ip"
   ]
  },
  {
   "cell_type": "markdown",
   "metadata": {},
   "source": [
    "### Shuffling the Data"
   ]
  },
  {
   "cell_type": "code",
   "execution_count": 278,
   "metadata": {},
   "outputs": [],
   "source": [
    "shuffled_ind= np.arange(balanced_scaled_ip.shape[0])\n",
    "np.random.shuffle(shuffled_ind)\n",
    "shuffled_ip=balanced_scaled_ip[shuffled_ind]\n",
    "shuffled_targets=targets_all[shuffled_ind] "
   ]
  },
  {
   "cell_type": "markdown",
   "metadata": {},
   "source": [
    "### Train Test Split "
   ]
  },
  {
   "cell_type": "code",
   "execution_count": 279,
   "metadata": {},
   "outputs": [],
   "source": [
    "samples_count=shuffled_ip.shape[0]\n",
    "train_sample_size=int(0.7*samples_count)\n",
    "validation_sample_size=int(0.2*samples_count)\n",
    "test_sample_size=samples_count-train_sample_size-validation_sample_size"
   ]
  },
  {
   "cell_type": "code",
   "execution_count": 280,
   "metadata": {},
   "outputs": [],
   "source": [
    "train_ip=shuffled_ip[:train_sample_size]\n",
    "train_targets=shuffled_targets[:train_sample_size]\n",
    "val_ip=shuffled_ip[train_sample_size:(validation_sample_size+train_sample_size)]\n",
    "val_targets=shuffled_targets[train_sample_size:(validation_sample_size+train_sample_size)]\n",
    "test_ip=shuffled_ip[(validation_sample_size+train_sample_size):]\n",
    "test_targets=shuffled_targets[(validation_sample_size+train_sample_size):]"
   ]
  },
  {
   "cell_type": "markdown",
   "metadata": {},
   "source": [
    "### Saving as NPZ file"
   ]
  },
  {
   "cell_type": "code",
   "execution_count": 281,
   "metadata": {},
   "outputs": [],
   "source": [
    "np.savez('cancer_data_train',inputs=train_ip,targets=train_targets)\n",
    "np.savez('cancer_data_val',inputs=val_ip,targets=val_targets)\n",
    "np.savez('cancer_data_test',inputs=test_ip,targets=test_targets)"
   ]
  },
  {
   "cell_type": "markdown",
   "metadata": {},
   "source": [
    "### Getting Data from NPZ file as tensors"
   ]
  },
  {
   "cell_type": "markdown",
   "metadata": {},
   "source": [
    "#### Train Data"
   ]
  },
  {
   "cell_type": "code",
   "execution_count": 282,
   "metadata": {},
   "outputs": [
    {
     "data": {
      "text/plain": [
       "(81, 1)"
      ]
     },
     "execution_count": 282,
     "metadata": {},
     "output_type": "execute_result"
    }
   ],
   "source": [
    "\n",
    "data_train=np.load('cancer_data_train.npz')\n",
    "data_train_ip=data_train['inputs'].astype(np.float)\n",
    "data_train_targets=np.asarray(data_train['targets']).astype('int32').reshape((-1,1))\n",
    "data_train_targets.shape"
   ]
  },
  {
   "cell_type": "markdown",
   "metadata": {},
   "source": [
    "#### Validation Data"
   ]
  },
  {
   "cell_type": "code",
   "execution_count": 283,
   "metadata": {},
   "outputs": [
    {
     "data": {
      "text/plain": [
       "(23, 1)"
      ]
     },
     "execution_count": 283,
     "metadata": {},
     "output_type": "execute_result"
    }
   ],
   "source": [
    "\n",
    "data_val=np.load('cancer_data_val.npz')\n",
    "data_val_ip=data_val['inputs'].astype(np.float)\n",
    "data_val_targets=np.asarray(data_val['targets']).astype('int32').reshape((-1,1))\n",
    "data_val_targets.shape"
   ]
  },
  {
   "cell_type": "markdown",
   "metadata": {},
   "source": [
    "#### Test Data"
   ]
  },
  {
   "cell_type": "code",
   "execution_count": 284,
   "metadata": {},
   "outputs": [
    {
     "data": {
      "text/plain": [
       "(12, 1)"
      ]
     },
     "execution_count": 284,
     "metadata": {},
     "output_type": "execute_result"
    }
   ],
   "source": [
    "\n",
    "data_test=np.load('cancer_data_test.npz')\n",
    "data_test_ip=data_test['inputs'].astype(np.float)\n",
    "data_test_targets=np.asarray(data_test['targets']).astype('int32').reshape((-1,1))\n",
    "data_test_targets.shape"
   ]
  },
  {
   "cell_type": "markdown",
   "metadata": {},
   "source": [
    "### Neural Network Design"
   ]
  },
  {
   "cell_type": "markdown",
   "metadata": {},
   "source": [
    "#####  Hyper Parameter Initialization"
   ]
  },
  {
   "cell_type": "code",
   "execution_count": 285,
   "metadata": {},
   "outputs": [],
   "source": [
    "IP_SIZE=9\n",
    "TOTAL_HIDDEN_LAYERS=3\n",
    "LAYER_CONFIG=[{'n_size':15,'act_fn':\"relu\"},{'n_size':2,'act_fn':\"sigmoid\"}]\n",
    "OP_SIZE=2"
   ]
  },
  {
   "cell_type": "markdown",
   "metadata": {},
   "source": [
    "#### Model Creation"
   ]
  },
  {
   "cell_type": "code",
   "execution_count": 286,
   "metadata": {},
   "outputs": [],
   "source": [
    "model=tf.keras.Sequential()\n",
    "model.add(tf.keras.layers.InputLayer(input_shape=(IP_SIZE,)))\n",
    "for i in range(TOTAL_HIDDEN_LAYERS):\n",
    "    model.add(tf.keras.layers.Dense(LAYER_CONFIG[0]['n_size'],activation=LAYER_CONFIG[0]['act_fn']))\n",
    "model.add(tf.keras.layers.Dense(LAYER_CONFIG[1]['n_size'],activation=LAYER_CONFIG[1]['act_fn']))"
   ]
  },
  {
   "cell_type": "markdown",
   "metadata": {},
   "source": [
    "#### Optimizer and Loss Function"
   ]
  },
  {
   "cell_type": "code",
   "execution_count": 296,
   "metadata": {},
   "outputs": [],
   "source": [
    "\n",
    "OPT = tf.keras.optimizers.SGD(\n",
    "    learning_rate=0.01,\n",
    "    name='SGD')\n",
    "BATCH_SIZE=100\n",
    "EPOCHS=300"
   ]
  },
  {
   "cell_type": "code",
   "execution_count": 297,
   "metadata": {},
   "outputs": [],
   "source": [
    "early_stopping=tf.keras.callbacks.EarlyStopping(monitor='val_loss',patience=3)\n",
    "model.compile(optimizer=OPT,loss='sparse_categorical_crossentropy',metrics=['accuracy'])\n"
   ]
  },
  {
   "cell_type": "markdown",
   "metadata": {},
   "source": [
    "#### Model Fit"
   ]
  },
  {
   "cell_type": "code",
   "execution_count": 298,
   "metadata": {},
   "outputs": [
    {
     "name": "stdout",
     "output_type": "stream",
     "text": [
      "Epoch 1/300\n",
      "1/1 - 0s - loss: 0.6869 - accuracy: 0.5556 - val_loss: 0.6940 - val_accuracy: 0.5652\n",
      "Epoch 2/300\n",
      "1/1 - 0s - loss: 0.6856 - accuracy: 0.5556 - val_loss: 0.6929 - val_accuracy: 0.5652\n",
      "Epoch 3/300\n",
      "1/1 - 0s - loss: 0.6842 - accuracy: 0.5556 - val_loss: 0.6918 - val_accuracy: 0.5652\n",
      "Epoch 4/300\n",
      "1/1 - 0s - loss: 0.6829 - accuracy: 0.5556 - val_loss: 0.6908 - val_accuracy: 0.5652\n",
      "Epoch 5/300\n",
      "1/1 - 0s - loss: 0.6817 - accuracy: 0.5556 - val_loss: 0.6899 - val_accuracy: 0.5652\n",
      "Epoch 6/300\n",
      "1/1 - 0s - loss: 0.6804 - accuracy: 0.5556 - val_loss: 0.6889 - val_accuracy: 0.5652\n",
      "Epoch 7/300\n",
      "1/1 - 0s - loss: 0.6792 - accuracy: 0.5556 - val_loss: 0.6880 - val_accuracy: 0.5652\n",
      "Epoch 8/300\n",
      "1/1 - 0s - loss: 0.6781 - accuracy: 0.5556 - val_loss: 0.6872 - val_accuracy: 0.5652\n",
      "Epoch 9/300\n",
      "1/1 - 0s - loss: 0.6769 - accuracy: 0.5556 - val_loss: 0.6864 - val_accuracy: 0.5652\n",
      "Epoch 10/300\n",
      "1/1 - 0s - loss: 0.6758 - accuracy: 0.5556 - val_loss: 0.6856 - val_accuracy: 0.5652\n",
      "Epoch 11/300\n",
      "1/1 - 0s - loss: 0.6747 - accuracy: 0.5556 - val_loss: 0.6849 - val_accuracy: 0.5652\n",
      "Epoch 12/300\n",
      "1/1 - 0s - loss: 0.6736 - accuracy: 0.5556 - val_loss: 0.6842 - val_accuracy: 0.5652\n",
      "Epoch 13/300\n",
      "1/1 - 0s - loss: 0.6725 - accuracy: 0.5556 - val_loss: 0.6835 - val_accuracy: 0.5652\n",
      "Epoch 14/300\n",
      "1/1 - 0s - loss: 0.6715 - accuracy: 0.5556 - val_loss: 0.6829 - val_accuracy: 0.5652\n",
      "Epoch 15/300\n",
      "1/1 - 0s - loss: 0.6704 - accuracy: 0.5679 - val_loss: 0.6824 - val_accuracy: 0.5652\n",
      "Epoch 16/300\n",
      "1/1 - 0s - loss: 0.6694 - accuracy: 0.5679 - val_loss: 0.6818 - val_accuracy: 0.5652\n",
      "Epoch 17/300\n",
      "1/1 - 0s - loss: 0.6684 - accuracy: 0.5679 - val_loss: 0.6813 - val_accuracy: 0.5652\n",
      "Epoch 18/300\n",
      "1/1 - 0s - loss: 0.6674 - accuracy: 0.5679 - val_loss: 0.6808 - val_accuracy: 0.5652\n",
      "Epoch 19/300\n",
      "1/1 - 0s - loss: 0.6664 - accuracy: 0.5802 - val_loss: 0.6803 - val_accuracy: 0.5652\n",
      "Epoch 20/300\n",
      "1/1 - 0s - loss: 0.6655 - accuracy: 0.5802 - val_loss: 0.6799 - val_accuracy: 0.5652\n",
      "Epoch 21/300\n",
      "1/1 - 0s - loss: 0.6645 - accuracy: 0.5802 - val_loss: 0.6794 - val_accuracy: 0.5652\n",
      "Epoch 22/300\n",
      "1/1 - 0s - loss: 0.6636 - accuracy: 0.5802 - val_loss: 0.6790 - val_accuracy: 0.5652\n",
      "Epoch 23/300\n",
      "1/1 - 0s - loss: 0.6626 - accuracy: 0.5802 - val_loss: 0.6786 - val_accuracy: 0.5652\n",
      "Epoch 24/300\n",
      "1/1 - 0s - loss: 0.6617 - accuracy: 0.5802 - val_loss: 0.6782 - val_accuracy: 0.5652\n",
      "Epoch 25/300\n",
      "1/1 - 0s - loss: 0.6608 - accuracy: 0.5802 - val_loss: 0.6779 - val_accuracy: 0.5652\n",
      "Epoch 26/300\n",
      "1/1 - 0s - loss: 0.6599 - accuracy: 0.5679 - val_loss: 0.6775 - val_accuracy: 0.5652\n",
      "Epoch 27/300\n",
      "1/1 - 0s - loss: 0.6590 - accuracy: 0.5679 - val_loss: 0.6772 - val_accuracy: 0.5652\n",
      "Epoch 28/300\n",
      "1/1 - 0s - loss: 0.6582 - accuracy: 0.5679 - val_loss: 0.6769 - val_accuracy: 0.5652\n",
      "Epoch 29/300\n",
      "1/1 - 0s - loss: 0.6573 - accuracy: 0.5679 - val_loss: 0.6766 - val_accuracy: 0.5652\n",
      "Epoch 30/300\n",
      "1/1 - 0s - loss: 0.6565 - accuracy: 0.5679 - val_loss: 0.6763 - val_accuracy: 0.5652\n",
      "Epoch 31/300\n",
      "1/1 - 0s - loss: 0.6557 - accuracy: 0.5679 - val_loss: 0.6760 - val_accuracy: 0.5652\n",
      "Epoch 32/300\n",
      "1/1 - 0s - loss: 0.6548 - accuracy: 0.5679 - val_loss: 0.6757 - val_accuracy: 0.5652\n",
      "Epoch 33/300\n",
      "1/1 - 0s - loss: 0.6540 - accuracy: 0.5679 - val_loss: 0.6755 - val_accuracy: 0.5652\n",
      "Epoch 34/300\n",
      "1/1 - 0s - loss: 0.6532 - accuracy: 0.5802 - val_loss: 0.6753 - val_accuracy: 0.5652\n",
      "Epoch 35/300\n",
      "1/1 - 0s - loss: 0.6524 - accuracy: 0.5802 - val_loss: 0.6750 - val_accuracy: 0.5652\n",
      "Epoch 36/300\n",
      "1/1 - 0s - loss: 0.6517 - accuracy: 0.5679 - val_loss: 0.6748 - val_accuracy: 0.5652\n",
      "Epoch 37/300\n",
      "1/1 - 0s - loss: 0.6509 - accuracy: 0.5679 - val_loss: 0.6746 - val_accuracy: 0.5652\n",
      "Epoch 38/300\n",
      "1/1 - 0s - loss: 0.6502 - accuracy: 0.5679 - val_loss: 0.6744 - val_accuracy: 0.5652\n",
      "Epoch 39/300\n",
      "1/1 - 0s - loss: 0.6494 - accuracy: 0.5679 - val_loss: 0.6742 - val_accuracy: 0.5652\n",
      "Epoch 40/300\n",
      "1/1 - 0s - loss: 0.6487 - accuracy: 0.5679 - val_loss: 0.6740 - val_accuracy: 0.5652\n",
      "Epoch 41/300\n",
      "1/1 - 0s - loss: 0.6479 - accuracy: 0.5679 - val_loss: 0.6739 - val_accuracy: 0.5652\n",
      "Epoch 42/300\n",
      "1/1 - 0s - loss: 0.6472 - accuracy: 0.5679 - val_loss: 0.6737 - val_accuracy: 0.5652\n",
      "Epoch 43/300\n",
      "1/1 - 0s - loss: 0.6465 - accuracy: 0.5679 - val_loss: 0.6735 - val_accuracy: 0.5652\n",
      "Epoch 44/300\n",
      "1/1 - 0s - loss: 0.6457 - accuracy: 0.5802 - val_loss: 0.6733 - val_accuracy: 0.5652\n",
      "Epoch 45/300\n",
      "1/1 - 0s - loss: 0.6450 - accuracy: 0.5802 - val_loss: 0.6732 - val_accuracy: 0.5652\n",
      "Epoch 46/300\n",
      "1/1 - 0s - loss: 0.6443 - accuracy: 0.5802 - val_loss: 0.6730 - val_accuracy: 0.5652\n",
      "Epoch 47/300\n",
      "1/1 - 0s - loss: 0.6436 - accuracy: 0.5802 - val_loss: 0.6729 - val_accuracy: 0.5652\n",
      "Epoch 48/300\n",
      "1/1 - 0s - loss: 0.6429 - accuracy: 0.5802 - val_loss: 0.6728 - val_accuracy: 0.5652\n",
      "Epoch 49/300\n",
      "1/1 - 0s - loss: 0.6422 - accuracy: 0.5926 - val_loss: 0.6727 - val_accuracy: 0.5652\n",
      "Epoch 50/300\n",
      "1/1 - 0s - loss: 0.6415 - accuracy: 0.5926 - val_loss: 0.6726 - val_accuracy: 0.5652\n",
      "Epoch 51/300\n",
      "1/1 - 0s - loss: 0.6408 - accuracy: 0.5926 - val_loss: 0.6725 - val_accuracy: 0.5652\n",
      "Epoch 52/300\n",
      "1/1 - 0s - loss: 0.6401 - accuracy: 0.5926 - val_loss: 0.6723 - val_accuracy: 0.5652\n",
      "Epoch 53/300\n",
      "1/1 - 0s - loss: 0.6394 - accuracy: 0.5926 - val_loss: 0.6722 - val_accuracy: 0.5652\n",
      "Epoch 54/300\n",
      "1/1 - 0s - loss: 0.6388 - accuracy: 0.5926 - val_loss: 0.6722 - val_accuracy: 0.5652\n",
      "Epoch 55/300\n",
      "1/1 - 0s - loss: 0.6381 - accuracy: 0.5926 - val_loss: 0.6721 - val_accuracy: 0.5652\n",
      "Epoch 56/300\n",
      "1/1 - 0s - loss: 0.6375 - accuracy: 0.5926 - val_loss: 0.6721 - val_accuracy: 0.5652\n",
      "Epoch 57/300\n",
      "1/1 - 0s - loss: 0.6368 - accuracy: 0.5926 - val_loss: 0.6720 - val_accuracy: 0.5652\n",
      "Epoch 58/300\n",
      "1/1 - 0s - loss: 0.6362 - accuracy: 0.5926 - val_loss: 0.6719 - val_accuracy: 0.5652\n",
      "Epoch 59/300\n",
      "1/1 - 0s - loss: 0.6356 - accuracy: 0.6049 - val_loss: 0.6719 - val_accuracy: 0.5652\n",
      "Epoch 60/300\n",
      "1/1 - 0s - loss: 0.6349 - accuracy: 0.5926 - val_loss: 0.6718 - val_accuracy: 0.5652\n",
      "Epoch 61/300\n",
      "1/1 - 0s - loss: 0.6343 - accuracy: 0.5926 - val_loss: 0.6718 - val_accuracy: 0.5652\n",
      "Epoch 62/300\n",
      "1/1 - 0s - loss: 0.6337 - accuracy: 0.5926 - val_loss: 0.6718 - val_accuracy: 0.5652\n",
      "Epoch 63/300\n",
      "1/1 - 0s - loss: 0.6331 - accuracy: 0.5926 - val_loss: 0.6717 - val_accuracy: 0.5652\n",
      "Epoch 64/300\n",
      "1/1 - 0s - loss: 0.6325 - accuracy: 0.5926 - val_loss: 0.6717 - val_accuracy: 0.5652\n",
      "Epoch 65/300\n",
      "1/1 - 0s - loss: 0.6319 - accuracy: 0.5926 - val_loss: 0.6717 - val_accuracy: 0.5652\n",
      "Epoch 66/300\n",
      "1/1 - 0s - loss: 0.6314 - accuracy: 0.6049 - val_loss: 0.6717 - val_accuracy: 0.5652\n",
      "Epoch 67/300\n",
      "1/1 - 0s - loss: 0.6308 - accuracy: 0.6049 - val_loss: 0.6717 - val_accuracy: 0.5652\n",
      "Epoch 68/300\n",
      "1/1 - 0s - loss: 0.6302 - accuracy: 0.6049 - val_loss: 0.6716 - val_accuracy: 0.5652\n",
      "Epoch 69/300\n",
      "1/1 - 0s - loss: 0.6296 - accuracy: 0.6049 - val_loss: 0.6716 - val_accuracy: 0.5652\n",
      "Epoch 70/300\n",
      "1/1 - 0s - loss: 0.6291 - accuracy: 0.6049 - val_loss: 0.6716 - val_accuracy: 0.5652\n",
      "Epoch 71/300\n",
      "1/1 - 0s - loss: 0.6285 - accuracy: 0.6049 - val_loss: 0.6716 - val_accuracy: 0.5652\n",
      "Epoch 72/300\n",
      "1/1 - 0s - loss: 0.6280 - accuracy: 0.6049 - val_loss: 0.6717 - val_accuracy: 0.5652\n",
      "Epoch 73/300\n",
      "1/1 - 0s - loss: 0.6275 - accuracy: 0.6049 - val_loss: 0.6717 - val_accuracy: 0.5652\n",
      "Epoch 74/300\n",
      "1/1 - 0s - loss: 0.6270 - accuracy: 0.6296 - val_loss: 0.6717 - val_accuracy: 0.5652\n"
     ]
    }
   ],
   "source": [
    "history=model.fit(data_train_ip,\n",
    "          data_train_targets,\n",
    "          batch_size=BATCH_SIZE,\n",
    "          epochs=EPOCHS,\n",
    "          verbose=2,\n",
    "          callbacks=[early_stopping],\n",
    "          validation_data=(data_val_ip,data_val_targets)\n",
    "          )"
   ]
  },
  {
   "cell_type": "markdown",
   "metadata": {},
   "source": [
    "### Test Loss and Test Accuracy"
   ]
  },
  {
   "cell_type": "code",
   "execution_count": 299,
   "metadata": {},
   "outputs": [
    {
     "name": "stdout",
     "output_type": "stream",
     "text": [
      "1/1 [==============================] - 0s 12ms/step - loss: 0.6769 - accuracy: 0.6667\n",
      "Test Loss:  0.6768853068351746\n",
      "Test Accuracy:  0.6666666865348816\n"
     ]
    }
   ],
   "source": [
    "test_loss,test_acc=model.evaluate(data_test_ip,data_test_targets)\n",
    "\n",
    "print(\"Test Loss: \",test_loss)\n",
    "print(\"Test Accuracy: \",test_acc)"
   ]
  },
  {
   "cell_type": "code",
   "execution_count": 300,
   "metadata": {},
   "outputs": [
    {
     "name": "stdout",
     "output_type": "stream",
     "text": [
      "WARNING:tensorflow:8 out of the last 44 calls to <function Model.make_predict_function.<locals>.predict_function at 0x000001713A85A3A0> triggered tf.function retracing. Tracing is expensive and the excessive number of tracings could be due to (1) creating @tf.function repeatedly in a loop, (2) passing tensors with different shapes, (3) passing Python objects instead of tensors. For (1), please define your @tf.function outside of the loop. For (2), @tf.function has experimental_relax_shapes=True option that relaxes argument shapes that can avoid unnecessary retracing. For (3), please refer to https://www.tensorflow.org/guide/function#controlling_retracing and https://www.tensorflow.org/api_docs/python/tf/function for  more details.\n"
     ]
    },
    {
     "name": "stderr",
     "output_type": "stream",
     "text": [
      "C:\\Users\\Mathews\\AppData\\Roaming\\Python\\Python38\\site-packages\\tensorflow\\python\\keras\\engine\\sequential.py:450: UserWarning: `model.predict_classes()` is deprecated and will be removed after 2021-01-01. Please use instead:* `np.argmax(model.predict(x), axis=-1)`,   if your model does multi-class classification   (e.g. if it uses a `softmax` last-layer activation).* `(model.predict(x) > 0.5).astype(\"int32\")`,   if your model does binary classification   (e.g. if it uses a `sigmoid` last-layer activation).\n",
      "  warnings.warn('`model.predict_classes()` is deprecated and '\n"
     ]
    }
   ],
   "source": [
    "\n",
    "test_pred=model.predict_classes(data_test_ip)\n",
    "\n"
   ]
  },
  {
   "cell_type": "code",
   "execution_count": 301,
   "metadata": {},
   "outputs": [
    {
     "name": "stdout",
     "output_type": "stream",
     "text": [
      "Recall: 0.6666666666666666\n",
      "Precision: 0.75\n"
     ]
    }
   ],
   "source": [
    "print(\"Recall:\",recall(data_test_targets,test_pred))\n",
    "print(\"Precision:\",precision(data_test_targets,test_pred))"
   ]
  },
  {
   "cell_type": "markdown",
   "metadata": {},
   "source": [
    "## Plot Losses"
   ]
  },
  {
   "cell_type": "code",
   "execution_count": 302,
   "metadata": {},
   "outputs": [
    {
     "data": {
      "text/plain": [
       "<matplotlib.legend.Legend at 0x1713a538d60>"
      ]
     },
     "execution_count": 302,
     "metadata": {},
     "output_type": "execute_result"
    },
    {
     "data": {
      "image/png": "[encoded data removed]",
      "text/plain": [
       "<Figure size 432x288 with 1 Axes>"
      ]
     },
     "metadata": {
      "needs_background": "light"
     },
     "output_type": "display_data"
    }
   ],
   "source": [
    "plt.subplot(211)\n",
    "plt.title('Loss')\n",
    "plt.plot(history.history['loss'], label='Train Data')\n",
    "plt.plot(history.history['val_loss'], label='Validation Data')\n",
    "plt.legend()"
   ]
  },
  {
   "cell_type": "markdown",
   "metadata": {},
   "source": [
    "## Plot Accuracy"
   ]
  },
  {
   "cell_type": "code",
   "execution_count": 303,
   "metadata": {},
   "outputs": [
    {
     "data": {
      "text/plain": [
       "<matplotlib.legend.Legend at 0x1713906f8e0>"
      ]
     },
     "execution_count": 303,
     "metadata": {},
     "output_type": "execute_result"
    },
    {
     "data": {
      "image/png": "[encoded data removed]",
      "text/plain": [
       "<Figure size 432x288 with 1 Axes>"
      ]
     },
     "metadata": {
      "needs_background": "light"
     },
     "output_type": "display_data"
    }
   ],
   "source": [
    "plt.subplot(411)\n",
    "plt.title('Accuracy')\n",
    "plt.plot(history.history['accuracy'], label='Train Data')\n",
    "plt.plot(history.history['val_accuracy'], label='Validation Data')\n",
    "plt.legend()"
   ]
  },
  {
   "cell_type": "code",
   "execution_count": null,
   "metadata": {},
   "outputs": [],
   "source": []
  }
 ],
 "metadata": {
  "kernelspec": {
   "display_name": "Python 3",
   "language": "python",
   "name": "python3"
  },
  "language_info": {
   "codemirror_mode": {
    "name": "ipython",
    "version": 3
   },
   "file_extension": ".py",
   "mimetype": "text/x-python",
   "name": "python",
   "nbconvert_exporter": "python",
   "pygments_lexer": "ipython3",
   "version": "3.8.5"
  }
 },
 "nbformat": 4,
 "nbformat_minor": 4
}
